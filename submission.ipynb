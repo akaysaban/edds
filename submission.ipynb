{
 "cells": [
  {
   "cell_type": "markdown",
   "metadata": {},
   "source": [
    "# Reproduction of Experimental Results: ViQuAE, a Dataset for Knowledge-Based Visual Question Answering about Named Entities"
   ]
  },
  {
   "cell_type": "markdown",
   "metadata": {},
   "source": [
    "The following procedure is used to reproduce the experiment for the ViQuAE paper(https://github.com/PaulLerner/ViQuAE.git). It is based on the original script \n",
    "from the ViQuAE repository, but has been modified in some places to make it work with the current version of the code. This modifications will be mentioned in\n",
    "the comments."
   ]
  },
  {
   "cell_type": "markdown",
   "metadata": {},
   "source": [
    "[![DOI](https://zenodo.org/badge/DOI/10.5281/zenodo.10578542.svg)](https://doi.org/10.5281/zenodo.10578542)"
   ]
  },
  {
   "cell_type": "markdown",
   "metadata": {},
   "source": [
    "[![GitHub](https://img.shields.io/badge/GitHub-Repository-blue.svg)](https://github.com/akaysaban/edds)"
   ]
  },
  {
   "cell_type": "markdown",
   "metadata": {},
   "source": [
    "### Authors\n",
    "\n",
    "- Saban Akay*\n",
    "  - Vienna University of Technology, Vienna, Austria\n",
    "  - Email: e12045645@student.tuwien.ac.at\n",
    "\n",
    "- Fabian Ombui*\n",
    "  - Vienna University of Technology, Vienna, Austria\n",
    "  - Email: e12326236@student.tuwien.ac.at\n",
    "\n",
    "- K.D. Mookantsa*\n",
    "  - Vienna University of Technology, Vienna, Austria\n",
    "  - Email: @student.tuwien.ac.at\n",
    "\n",
    "- E.T. Mpofu*\n",
    "  - Vienna University of Technology, Vienna, Austria\n",
    "  - Email: e12333475@student.tuwien.ac.at\n",
    "\n",
    "\\* All authors are affiliated with Vienna University of Technology, Vienna, Austria."
   ]
  },
  {
   "cell_type": "markdown",
   "metadata": {},
   "source": [
    "### Experiment Date\n",
    "    28 January 2024"
   ]
  }
 ],
 "metadata": {
  "language_info": {
   "name": "python"
  }
 },
 "nbformat": 4,
 "nbformat_minor": 2
}
