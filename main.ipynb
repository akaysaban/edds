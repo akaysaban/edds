{
 "cells": [
  {
   "cell_type": "code",
   "execution_count": 1,
   "metadata": {},
   "outputs": [
    {
     "name": "stdout",
     "output_type": "stream",
     "text": [
      "Cloning into 'viquae_all_images'...\n",
      "remote: Enumerating objects: 38, done.\u001b[K\n",
      "remote: Total 38 (delta 0), reused 0 (delta 0), pack-reused 38\u001b[K\n",
      "Unpacking objects: 100% (38/38), 4.79 KiB | 140.00 KiB/s, done.\n"
     ]
    }
   ],
   "source": [
    "!git clone https://huggingface.co/datasets/PaulLerner/viquae_all_images"
   ]
  },
  {
   "cell_type": "code",
   "execution_count": 2,
   "metadata": {},
   "outputs": [
    {
     "name": "stdout",
     "output_type": "stream",
     "text": [
      "Cloning into 'viquae_images'...\n",
      "remote: Enumerating objects: 15, done.\u001b[K\n",
      "remote: Total 15 (delta 0), reused 0 (delta 0), pack-reused 15\u001b[K\n",
      "Unpacking objects: 100% (15/15), 1.61 KiB | 110.00 KiB/s, done.\n"
     ]
    }
   ],
   "source": [
    "!git clone https://huggingface.co/datasets/PaulLerner/viquae_images"
   ]
  },
  {
   "cell_type": "code",
   "execution_count": 3,
   "metadata": {},
   "outputs": [
    {
     "name": "stdout",
     "output_type": "stream",
     "text": [
      "Cloning into 'viquae_dataset'...\n",
      "remote: Enumerating objects: 18, done.\u001b[K\n",
      "remote: Total 18 (delta 0), reused 0 (delta 0), pack-reused 18\u001b[K\n",
      "Unpacking objects: 100% (18/18), 2.10 KiB | 89.00 KiB/s, done.\n"
     ]
    }
   ],
   "source": [
    "!git clone https://huggingface.co/datasets/PaulLerner/viquae_dataset"
   ]
  },
  {
   "cell_type": "code",
   "execution_count": 4,
   "metadata": {},
   "outputs": [
    {
     "name": "stdout",
     "output_type": "stream",
     "text": [
      "Cloning into 'viquae_wikipedia'...\n",
      "remote: Enumerating objects: 20, done.\u001b[K\n",
      "remote: Total 20 (delta 0), reused 0 (delta 0), pack-reused 20\u001b[K\n",
      "Unpacking objects: 100% (20/20), 2.40 KiB | 94.00 KiB/s, done.\n"
     ]
    }
   ],
   "source": [
    "!git clone https://huggingface.co/datasets/PaulLerner/viquae_wikipedia"
   ]
  },
  {
   "cell_type": "code",
   "execution_count": null,
   "metadata": {},
   "outputs": [],
   "source": [
    "from datasets import load_dataset\n",
    "\n",
    "dataset = load_dataset(\"PaulLerner/viquae_v4-alpha_passages\")"
   ]
  },
  {
   "cell_type": "code",
   "execution_count": 5,
   "metadata": {},
   "outputs": [
    {
     "name": "stderr",
     "output_type": "stream",
     "text": [
      "Found cached dataset json (/Users/saban.akay/.cache/huggingface/datasets/PaulLerner___json/PaulLerner--viquae_dataset-cbf702af5ea079d1/0.0.0/e347ab1c932092252e717ff3f949105a4dd28b27e842dd53157d2f72e276c2e4)\n"
     ]
    },
    {
     "data": {
      "application/vnd.jupyter.widget-view+json": {
       "model_id": "112976e525b14be6b9d58490523012d3",
       "version_major": 2,
       "version_minor": 0
      },
      "text/plain": [
       "  0%|          | 0/3 [00:00<?, ?it/s]"
      ]
     },
     "metadata": {},
     "output_type": "display_data"
    },
    {
     "data": {
      "text/plain": [
       "DatasetDict({\n",
       "    train: Dataset({\n",
       "        features: ['image', 'input', 'kilt_id', 'id', 'meta', 'original_question', 'output', 'url', 'wikidata_id'],\n",
       "        num_rows: 1190\n",
       "    })\n",
       "    validation: Dataset({\n",
       "        features: ['image', 'input', 'kilt_id', 'id', 'meta', 'original_question', 'output', 'url', 'wikidata_id'],\n",
       "        num_rows: 1250\n",
       "    })\n",
       "    test: Dataset({\n",
       "        features: ['image', 'input', 'kilt_id', 'id', 'meta', 'original_question', 'output', 'url', 'wikidata_id'],\n",
       "        num_rows: 1257\n",
       "    })\n",
       "})"
      ]
     },
     "execution_count": 5,
     "metadata": {},
     "output_type": "execute_result"
    }
   ],
   "source": [
    "from datasets import load_dataset\n",
    "dataset = load_dataset('PaulLerner/viquae_dataset')\n",
    "dataset"
   ]
  },
  {
   "cell_type": "code",
   "execution_count": 6,
   "metadata": {},
   "outputs": [],
   "source": [
    "item = dataset['test'][0]"
   ]
  },
  {
   "cell_type": "code",
   "execution_count": 7,
   "metadata": {},
   "outputs": [
    {
     "data": {
      "text/plain": [
       "dict"
      ]
     },
     "execution_count": 7,
     "metadata": {},
     "output_type": "execute_result"
    }
   ],
   "source": [
    "type(item)"
   ]
  },
  {
   "cell_type": "code",
   "execution_count": 8,
   "metadata": {},
   "outputs": [
    {
     "data": {
      "text/plain": [
       "'http://upload.wikimedia.org/wikipedia/commons/thumb/a/ae/Jackie_Wilson.png/512px-Jackie_Wilson.png'"
      ]
     },
     "execution_count": 8,
     "metadata": {},
     "output_type": "execute_result"
    }
   ],
   "source": [
    "item['url']"
   ]
  },
  {
   "cell_type": "code",
   "execution_count": 9,
   "metadata": {},
   "outputs": [
    {
     "data": {
      "text/plain": [
       "'512px-Jackie_Wilson.png'"
      ]
     },
     "execution_count": 9,
     "metadata": {},
     "output_type": "execute_result"
    }
   ],
   "source": [
    "item['image']"
   ]
  },
  {
   "cell_type": "code",
   "execution_count": 33,
   "metadata": {},
   "outputs": [],
   "source": [
    "#from meerqat.data.loading import load_image_batch\n",
    "#image = load_image_batch([item['image']])[0]\n",
    "#type(image), image.size"
   ]
  },
  {
   "cell_type": "code",
   "execution_count": 11,
   "metadata": {},
   "outputs": [
    {
     "data": {
      "text/plain": [
       "\"this singer's re-issued song became the UK Christmas number one after helping to advertise what brand?\""
      ]
     },
     "execution_count": 11,
     "metadata": {},
     "output_type": "execute_result"
    }
   ],
   "source": [
    "item['input']"
   ]
  },
  {
   "cell_type": "code",
   "execution_count": 12,
   "metadata": {},
   "outputs": [
    {
     "data": {
      "text/plain": [
       "\"Levi's\""
      ]
     },
     "execution_count": 12,
     "metadata": {},
     "output_type": "execute_result"
    }
   ],
   "source": [
    "item['output']['original_answer']"
   ]
  },
  {
   "cell_type": "code",
   "execution_count": 13,
   "metadata": {},
   "outputs": [
    {
     "name": "stderr",
     "output_type": "stream",
     "text": [
      "Found cached dataset json (/Users/saban.akay/.cache/huggingface/datasets/PaulLerner___json/PaulLerner--viquae_wikipedia-b80f4d3edaea2505/0.0.0/e347ab1c932092252e717ff3f949105a4dd28b27e842dd53157d2f72e276c2e4)\n"
     ]
    },
    {
     "data": {
      "application/vnd.jupyter.widget-view+json": {
       "model_id": "8294e2426fce44ed9c6be218f2bfdaf4",
       "version_major": 2,
       "version_minor": 0
      },
      "text/plain": [
       "  0%|          | 0/3 [00:00<?, ?it/s]"
      ]
     },
     "metadata": {},
     "output_type": "display_data"
    },
    {
     "data": {
      "text/plain": [
       "DatasetDict({\n",
       "    humans_with_faces: Dataset({\n",
       "        features: ['anchors', 'categories', 'image', 'kilt_id', 'text', 'url', 'wikidata_info', 'wikipedia_id', 'wikipedia_title'],\n",
       "        num_rows: 506237\n",
       "    })\n",
       "    humans_without_faces: Dataset({\n",
       "        features: ['anchors', 'categories', 'image', 'kilt_id', 'text', 'url', 'wikidata_info', 'wikipedia_id', 'wikipedia_title'],\n",
       "        num_rows: 35736\n",
       "    })\n",
       "    non_humans: Dataset({\n",
       "        features: ['anchors', 'categories', 'image', 'kilt_id', 'text', 'url', 'wikidata_info', 'wikipedia_id', 'wikipedia_title'],\n",
       "        num_rows: 953379\n",
       "    })\n",
       "})"
      ]
     },
     "execution_count": 13,
     "metadata": {},
     "output_type": "execute_result"
    }
   ],
   "source": [
    "data_files = dict(\n",
    "    humans_with_faces='humans_with_faces.jsonl.gz',\n",
    "    humans_without_faces='humans_without_faces.jsonl.gz',\n",
    "    non_humans='non_humans.jsonl.gz'\n",
    ")\n",
    "kb = load_dataset('PaulLerner/viquae_wikipedia', data_files=data_files)\n",
    "kb"
   ]
  },
  {
   "cell_type": "code",
   "execution_count": 14,
   "metadata": {},
   "outputs": [
    {
     "data": {
      "text/plain": [
       "('Q313590', 'Alain Connes')"
      ]
     },
     "execution_count": 14,
     "metadata": {},
     "output_type": "execute_result"
    }
   ],
   "source": [
    "item = kb['humans_with_faces'][0]\n",
    "item['wikidata_info']['wikidata_id'], item['wikidata_info']['wikipedia_title']"
   ]
  },
  {
   "cell_type": "code",
   "execution_count": 15,
   "metadata": {},
   "outputs": [
    {
     "data": {
      "text/plain": [
       "'512px-Alain_Connes.jpg'"
      ]
     },
     "execution_count": 15,
     "metadata": {},
     "output_type": "execute_result"
    }
   ],
   "source": [
    "item['image']"
   ]
  },
  {
   "cell_type": "code",
   "execution_count": 16,
   "metadata": {},
   "outputs": [
    {
     "data": {
      "text/plain": [
       "(list, 25)"
      ]
     },
     "execution_count": 16,
     "metadata": {},
     "output_type": "execute_result"
    }
   ],
   "source": [
    "# the text is stored in a list of string, one per paragraph\n",
    "type(item['text']['paragraph']), len(item['text']['paragraph'])"
   ]
  },
  {
   "cell_type": "code",
   "execution_count": 17,
   "metadata": {},
   "outputs": [
    {
     "data": {
      "text/plain": [
       "'Alain Connes (; born 1 April 1947) is a French mathematician, currently Professor at the Collège de France, IHÉS, Ohio State University and Vanderbilt University. He was an Invited Professor at the Conservatoire national des arts et métiers (2000).\\n'"
      ]
     },
     "execution_count": 17,
     "metadata": {},
     "output_type": "execute_result"
    }
   ],
   "source": [
    "# the text is stored in a list of string, one per paragraph\n",
    "item['text']['paragraph'][1]"
   ]
  },
  {
   "cell_type": "code",
   "execution_count": 18,
   "metadata": {},
   "outputs": [
    {
     "name": "stderr",
     "output_type": "stream",
     "text": [
      "Loading cached processed dataset at /Users/saban.akay/.cache/huggingface/datasets/PaulLerner___json/PaulLerner--viquae_wikipedia-b80f4d3edaea2505/0.0.0/e347ab1c932092252e717ff3f949105a4dd28b27e842dd53157d2f72e276c2e4/cache-ce070adf6f3013e6.arrow\n",
      "Loading cached processed dataset at /Users/saban.akay/.cache/huggingface/datasets/PaulLerner___json/PaulLerner--viquae_wikipedia-b80f4d3edaea2505/0.0.0/e347ab1c932092252e717ff3f949105a4dd28b27e842dd53157d2f72e276c2e4/cache-5ebd487f849e3d9d.arrow\n",
      "Loading cached processed dataset at /Users/saban.akay/.cache/huggingface/datasets/PaulLerner___json/PaulLerner--viquae_wikipedia-b80f4d3edaea2505/0.0.0/e347ab1c932092252e717ff3f949105a4dd28b27e842dd53157d2f72e276c2e4/cache-47d688b45c84df05.arrow\n"
     ]
    },
    {
     "data": {
      "application/vnd.jupyter.widget-view+json": {
       "model_id": "",
       "version_major": 2,
       "version_minor": 0
      },
      "text/plain": [
       "Saving the dataset (0/22 shards):   0%|          | 0/1495352 [00:00<?, ? examples/s]"
      ]
     },
     "metadata": {},
     "output_type": "display_data"
    }
   ],
   "source": [
    "#to concatenate these three datasets to get a single dataset (e.g. to split the articles in passages)\n",
    "from datasets import concatenate_datasets\n",
    "kb['humans_with_faces'] = kb['humans_with_faces'].map(lambda item: {'is_human': True})\n",
    "kb['humans_without_faces'] = kb['humans_without_faces'].map(lambda item: {'is_human': True})\n",
    "kb['non_humans'] = kb['non_humans'].map(lambda item: {'is_human': False})\n",
    "kb_recat = concatenate_datasets([kb['non_humans'], kb['humans_with_faces'], kb['humans_without_faces']])\n",
    "kb_recat.save_to_disk('data/viquae_wikipedia_recat')"
   ]
  },
  {
   "cell_type": "code",
   "execution_count": 29,
   "metadata": {},
   "outputs": [
    {
     "name": "stdout",
     "output_type": "stream",
     "text": [
      "/Users/saban.akay/Desktop/TU/3_ws_23/EDDS/edds/ViQuAE/meerqat/data/loading.py:458: FutureWarning: set_caching_enabled is deprecated and will be removed in the next major version of datasets. Use datasets.enable_caching() or datasets.disable_caching() instead. This function will be removed in a future version of datasets.\n",
      "  set_caching_enabled(not args['--disable_caching'])\n",
      "Map: 100%|████████████████████| 1495352/1495352 [41:34<00:00, 599.51 examples/s]\n"
     ]
    }
   ],
   "source": [
    "!python -m meerqat.data.loading passages data/viquae_wikipedia_recat data/viquae_passages experiments/passages/config.json --disable_caching"
   ]
  },
  {
   "cell_type": "code",
   "execution_count": 30,
   "metadata": {},
   "outputs": [
    {
     "name": "stdout",
     "output_type": "stream",
     "text": [
      "/Users/saban.akay/Desktop/TU/3_ws_23/EDDS/edds/ViQuAE/meerqat/data/loading.py:458: FutureWarning: set_caching_enabled is deprecated and will be removed in the next major version of datasets. Use datasets.enable_caching() or datasets.disable_caching() instead. This function will be removed in a future version of datasets.\n",
      "  set_caching_enabled(not args['--disable_caching'])\n",
      "Map: 100%|█████████████████| 1495352/1495352 [00:13<00:00, 108224.37 examples/s]\n"
     ]
    }
   ],
   "source": [
    "!python -m meerqat.data.loading map data/viquae_wikipedia_recat wikipedia_title title2index.json --inverse --disable_caching"
   ]
  },
  {
   "cell_type": "code",
   "execution_count": 35,
   "metadata": {},
   "outputs": [
    {
     "name": "stdout",
     "output_type": "stream",
     "text": [
      "/Users/saban.akay/Desktop/TU/3_ws_23/EDDS/edds/ViQuAE/meerqat/data/loading.py:458: FutureWarning: set_caching_enabled is deprecated and will be removed in the next major version of datasets. Use datasets.enable_caching() or datasets.disable_caching() instead. This function will be removed in a future version of datasets.\r\n",
      "  set_caching_enabled(not args['--disable_caching'])\r\n"
     ]
    }
   ],
   "source": [
    "!python -m meerqat.data.loading map data/viquae_wikipedia_recat passage_index article2passage.json --disable_caching"
   ]
  },
  {
   "cell_type": "code",
   "execution_count": 36,
   "metadata": {},
   "outputs": [
    {
     "name": "stdout",
     "output_type": "stream",
     "text": [
      "Traceback (most recent call last):\r\n",
      "  File \"/Users/saban.akay/anaconda3/lib/python3.10/runpy.py\", line 196, in _run_module_as_main\r\n",
      "    return _run_code(code, main_globals, None,\r\n",
      "  File \"/Users/saban.akay/anaconda3/lib/python3.10/runpy.py\", line 86, in _run_code\r\n",
      "    exec(code, run_globals)\r\n",
      "  File \"/Users/saban.akay/Desktop/TU/3_ws_23/EDDS/edds/ViQuAE/meerqat/ir/metrics.py\", line 394, in <module>\r\n",
      "    passages = load_from_disk(args['<passages>'])\r\n",
      "  File \"/Users/saban.akay/anaconda3/lib/python3.10/site-packages/datasets/load.py\", line 2626, in load_from_disk\r\n",
      "    raise FileNotFoundError(f\"Directory {dataset_path} not found\")\r\n",
      "FileNotFoundError: Directory data/viquae_passages not found\r\n",
      "\u001b[0m"
     ]
    }
   ],
   "source": [
    "!python -m meerqat.ir.metrics relevant data/viquae_dataset data/viquae_passages data/viquae_wikipedia_recat/title2index.json data/viquae_wikipedia_recat/article2passage.json --disable_caching"
   ]
  },
  {
   "cell_type": "code",
   "execution_count": null,
   "metadata": {},
   "outputs": [],
   "source": [
    "from datasets import load_from_disk, set_caching_enabled\n",
    "from meerqat.ir.metrics import find_relevant\n",
    "from ranx import Run\n",
    "\n",
    "set_caching_enabled(False)\n",
    "kb = load_from_disk('data/viquae_passages/')\n",
    "dataset = load_from_disk('data/viquae_dataset/train')\n",
    "# to reproduce the results of the papers:\n",
    "# - use DPR+Image as IR to train the reader or fine-tune ECA/ILF\n",
    "# - use BM25 as IR to train DPR (then save in 'BM25_provenance_indices'/'BM25_irrelevant_indices')\n",
    "run = Run.from_file('/path/to/bm25/or/multimodal_ir_train.trec')\n",
    "\n",
    "def keep_relevant_search_wrt_original_in_priority(item, kb):\n",
    "    indices = list(map(int, run[item['id']]))\n",
    "    relevant_indices, _ = find_relevant(indices, item['output']['original_answer'], [], kb)\n",
    "    if relevant_indices:\n",
    "        item['search_provenance_indices'] = relevant_indices\n",
    "    else:\n",
    "        item['search_provenance_indices'] = item['original_answer_provenance_indices']\n",
    "    item['search_irrelevant_indices'] = list(set(indices) - set(relevant_indices))\n",
    "    return item\n",
    "\n",
    "dataset = dataset.map(keep_relevant_search_wrt_original_in_priority, fn_kwargs=dict(kb=kb))\n",
    "dataset.save_to_disk('data/viquae_dataset/train')"
   ]
  },
  {
   "cell_type": "code",
   "execution_count": null,
   "metadata": {},
   "outputs": [],
   "source": [
    "# embed dataset images with ImageNet-ResNet50\n",
    "!python -m meerqat.image.embedding data/viquae_dataset experiments/image_embedding/imagenet/config.json --disable_caching"
   ]
  },
  {
   "cell_type": "code",
   "execution_count": null,
   "metadata": {},
   "outputs": [],
   "source": [
    "# embed KB images with ImageNet-ResNet50\n",
    "!python -m meerqat.image.embedding data/viquae_wikipedia experiments/image_embedding/imagenet/config.json --disable_caching"
   ]
  },
  {
   "cell_type": "code",
   "execution_count": null,
   "metadata": {},
   "outputs": [],
   "source": [
    "# embed dataset images with CLIP-ResNet50\n",
    "!python -m meerqat.image.embedding data/viquae_dataset experiments/image_embedding/clip/config.json --disable_caching"
   ]
  },
  {
   "cell_type": "code",
   "execution_count": null,
   "metadata": {},
   "outputs": [],
   "source": [
    "# embed KB images with CLIP-ResNet50\n",
    "!python -m meerqat.image.embedding data/viquae_wikipedia experiments/image_embedding/clip/config.json --disable_caching"
   ]
  },
  {
   "cell_type": "code",
   "execution_count": null,
   "metadata": {},
   "outputs": [],
   "source": [
    "# embed dataset images with CLIP-ViT\n",
    "!python -m meerqat.image.embedding data/viquae_dataset experiments/image_embedding/clip/vit_config.json --disable_caching"
   ]
  },
  {
   "cell_type": "code",
   "execution_count": null,
   "metadata": {},
   "outputs": [],
   "source": [
    "# embed KB images with CLIP-ViT\n",
    "!python -m meerqat.image.embedding data/viquae_wikipedia experiments/image_embedding/clip/vit_config.json --disable_caching"
   ]
  },
  {
   "cell_type": "code",
   "execution_count": null,
   "metadata": {},
   "outputs": [],
   "source": [
    "# text embedding\n",
    "!python -m meerqat.ir.embedding data/viquae_wikipedia experiments/ir/viquae/clip/config.json"
   ]
  },
  {
   "cell_type": "code",
   "execution_count": null,
   "metadata": {},
   "outputs": [],
   "source": [
    "# face detection\n",
    "!python -m meerqat.image.face_detection data/viquae_dataset --disable_caching --batch_size=256"
   ]
  },
  {
   "cell_type": "code",
   "execution_count": null,
   "metadata": {},
   "outputs": [],
   "source": [
    "# face detection\n",
    "!python -m meerqat.image.face_detection data/viquae_wikipedia/humans --disable_caching --batch_size=256"
   ]
  },
  {
   "cell_type": "code",
   "execution_count": null,
   "metadata": {},
   "outputs": [],
   "source": [
    "!git clone https://github.com/PaulLerner/insightface.git\n",
    "!cd insightface\n",
    "!git checkout chore/arcface_torch\n",
    "!cd recognition\n",
    "!pip install -e ."
   ]
  },
  {
   "cell_type": "code",
   "execution_count": null,
   "metadata": {},
   "outputs": [],
   "source": [
    "# run\n",
    "!python -m meerqat.image.face_recognition data/viquae_dataset experiments/face_recognition/config.json --disable_caching"
   ]
  },
  {
   "cell_type": "code",
   "execution_count": null,
   "metadata": {},
   "outputs": [],
   "source": [
    "# run\n",
    "!python -m meerqat.image.face_recognition data/viquae_wikipedia/humans_with_faces experiments/face_recognition/config.json --disable_caching"
   ]
  },
  {
   "cell_type": "code",
   "execution_count": null,
   "metadata": {},
   "outputs": [],
   "source": [
    "d = load_from_disk('data/viquae_dataset')\n",
    "d = d.map(lambda item: {'first_face_embedding': item['face_embedding'][0] if item['face_embedding'] is not None else None})\n",
    "d.save_to_disk('data/viquae_dataset')"
   ]
  },
  {
   "cell_type": "code",
   "execution_count": null,
   "metadata": {},
   "outputs": [],
   "source": [
    "!python -m meerqat.train.trainer fit --config=experiments/dpr/triviaqa/config.yaml"
   ]
  }
 ],
 "metadata": {
  "kernelspec": {
   "display_name": "Python 3 (ipykernel)",
   "language": "python",
   "name": "python3"
  },
  "language_info": {
   "codemirror_mode": {
    "name": "ipython",
    "version": 3
   },
   "file_extension": ".py",
   "mimetype": "text/x-python",
   "name": "python",
   "nbconvert_exporter": "python",
   "pygments_lexer": "ipython3",
   "version": "3.10.7"
  }
 },
 "nbformat": 4,
 "nbformat_minor": 2
}
